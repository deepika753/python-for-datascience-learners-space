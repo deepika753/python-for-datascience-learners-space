{
  "nbformat": 4,
  "nbformat_minor": 0,
  "metadata": {
    "colab": {
      "provenance": []
    },
    "kernelspec": {
      "name": "python3",
      "display_name": "Python 3"
    },
    "language_info": {
      "name": "python"
    }
  },
  "cells": [
    {
      "cell_type": "code",
      "execution_count": null,
      "metadata": {
        "id": "hzJNlIp2zz_-"
      },
      "outputs": [],
      "source": [
        "#import libraries\n",
        "import numpy as np\n",
        "import pandas as pd\n",
        "import matplotlib.pyplot as plt\n",
        "import seaborn as sns"
      ]
    },
    {
      "cell_type": "code",
      "source": [
        "class logisticregression:\n",
        "  def __init__(self,learning_rate=0.01,num_iterations=1000):\n",
        "    self.learning_rate = learning_rate\n",
        "    self.num_iterations =num_iterations\n",
        "    self.bias = None\n",
        "    self.weights = None\n",
        "  def sigmoid(self,z):\n",
        "    return 1/(1+np.exp(-z))\n",
        "  def split(self,data,target,test_size =0.2):\n",
        "    indices = np.random.permutation(len(data))\n",
        "    test_size = int(len(data) * test_size)\n",
        "\n",
        "    test_indices = indices[:test_size]\n",
        "    train_indices = indices[test_size:]\n",
        "\n",
        "    X_train, X_test = data.iloc[train_indices], data.iloc[test_indices]\n",
        "    y_train, y_test = target.iloc[train_indices], target.iloc[test_indices]\n",
        "\n",
        "    return X_train, X_test, y_train, y_test\n",
        "  def fit(self,X,y):\n",
        "    num_samples, num_features = X.shape\n",
        "    self.weights = np.zeros(num_features)\n",
        "    self.bias = 0\n",
        "  #gradient decent\n",
        "    for i in range (self.num_iterations):\n",
        "    #linear model\n",
        "      linear_model = np.dot(X,self.weights) + self.bias\n",
        "    #sigmoid\n",
        "      y_predicted = self.sigmoid(linear_model)\n",
        "    #gradient\n",
        "      dw = (1 / num_samples) * np.dot(X.T, (y_predicted - y))\n",
        "      db = (1 / num_samples) * np.sum(y_predicted - y)\n",
        "    #gradient updates\n",
        "      self.weights -= self.learning_rate*dw\n",
        "      self.bias -= self.learning_rate*db\n",
        "\n",
        "  def predict(self, X):\n",
        "    linear_model = np.dot(X, self.weights) + self.bias\n",
        "    y_predicted = self.sigmoid(linear_model)\n",
        "    y_predicted_cls = [1 if i > 0.5 else 0 for i in y_predicted]\n",
        "    return y_predicted_cls\n",
        "\n"
      ],
      "metadata": {
        "id": "VeNTM9Pu0cr0"
      },
      "execution_count": null,
      "outputs": []
    },
    {
      "cell_type": "code",
      "source": [
        "\n",
        "#loading diabetics data\n",
        "data = pd.read_csv(\"diabetes (1).csv\")\n",
        "X = data.drop('Outcome',axis = 1)\n",
        "y = data['Outcome']"
      ],
      "metadata": {
        "id": "ofnKuj6d2KW7"
      },
      "execution_count": null,
      "outputs": []
    },
    {
      "cell_type": "code",
      "source": [
        "model = logisticregression(learning_rate =0.01, num_iterations = 1000)"
      ],
      "metadata": {
        "id": "8DfEI89U5kRo"
      },
      "execution_count": null,
      "outputs": []
    },
    {
      "cell_type": "code",
      "source": [
        "#spliting data\n",
        "X_train, X_test, y_train, y_test = model.split(X, y)"
      ],
      "metadata": {
        "id": "BJlnwlOG6gv6"
      },
      "execution_count": null,
      "outputs": []
    },
    {
      "cell_type": "code",
      "source": [
        "#fit train data\n",
        "model.fit(X_train,y_train)"
      ],
      "metadata": {
        "id": "6JYaQisc6qLb"
      },
      "execution_count": null,
      "outputs": []
    },
    {
      "cell_type": "code",
      "source": [
        "#predicted\n",
        "y_predicted = model.predict(X_test)"
      ],
      "metadata": {
        "id": "VkYTFmUG62H0"
      },
      "execution_count": null,
      "outputs": []
    },
    {
      "cell_type": "code",
      "source": [
        "#accuarcy\n",
        "accuracy = np.mean(y_predicted == y_test)\n",
        "print(\"Accuracy:\", accuracy)"
      ],
      "metadata": {
        "colab": {
          "base_uri": "https://localhost:8080/"
        },
        "id": "xtTuvgSM7AaR",
        "outputId": "98a86c2a-6143-4399-86ff-591d848a2e61"
      },
      "execution_count": null,
      "outputs": [
        {
          "output_type": "stream",
          "name": "stdout",
          "text": [
            "Accuracy: 0.6928104575163399\n"
          ]
        }
      ]
    },
    {
      "cell_type": "code",
      "source": [
        "#REGULARIZATION and after scaling features\n",
        "import numpy as np\n",
        "import pandas as pd\n",
        "import matplotlib.pyplot as plt\n",
        "import seaborn as sns\n",
        "\n",
        "class LogisticRegression:\n",
        "    def __init__(self, learning_rate=0.01, num_iterations=1000, regularization=None, lambda_param=0.1):\n",
        "        self.learning_rate = learning_rate\n",
        "        self.num_iterations = num_iterations\n",
        "        self.regularization = regularization\n",
        "        self.lambda_param = lambda_param\n",
        "        self.weights = None\n",
        "        self.bias = None\n",
        "\n",
        "    def sigmoid(self, z):\n",
        "        return 1 / (1 + np.exp(-z))\n",
        "\n",
        "    def split(self, data, target, test_size=0.2):\n",
        "        indices = np.random.permutation(len(data))\n",
        "        test_size = int(len(data) * test_size)\n",
        "\n",
        "        test_indices = indices[:test_size]\n",
        "        train_indices = indices[test_size:]\n",
        "\n",
        "        X_train, X_test = data.iloc[train_indices], data.iloc[test_indices]\n",
        "        y_train, y_test = target.iloc[train_indices], target.iloc[test_indices]\n",
        "\n",
        "        return X_train, X_test, y_train, y_test\n",
        "\n",
        "    def fit(self, X, y):\n",
        "        num_samples, num_features = X.shape\n",
        "        self.weights = np.zeros(num_features)\n",
        "        self.bias = 0\n",
        "\n",
        "        for _ in range(self.num_iterations):\n",
        "            linear_model = np.dot(X, self.weights) + self.bias\n",
        "            y_predicted = self.sigmoid(linear_model)\n",
        "\n",
        "            dw = (1 / num_samples) * np.dot(X.T, (y_predicted - y))\n",
        "            db = (1 / num_samples) * np.sum(y_predicted - y)\n",
        "\n",
        "            if self.regularization == 'l1':\n",
        "                dw += (self.lambda_param / num_samples) * np.sign(self.weights)\n",
        "            elif self.regularization == 'l2':\n",
        "                dw += (self.lambda_param / num_samples) * self.weights\n",
        "\n",
        "            self.weights -= self.learning_rate * dw\n",
        "            self.bias -= self.learning_rate * db\n",
        "\n",
        "    def predict(self, X):\n",
        "        linear_model = np.dot(X, self.weights) + self.bias\n",
        "        y_predicted = self.sigmoid(linear_model)\n",
        "        y_predicted_cls = [1 if i > 0.5 else 0 for i in y_predicted]\n",
        "        return y_predicted_cls"
      ],
      "metadata": {
        "id": "H8fFZVbS7PY4"
      },
      "execution_count": null,
      "outputs": []
    },
    {
      "cell_type": "code",
      "source": [
        "def standardize_data(X):\n",
        "    mean = np.mean(X, axis=0)\n",
        "    std = np.std(X, axis=0)\n",
        "    X_scaled = (X - mean) / std\n",
        "    return X_scaled"
      ],
      "metadata": {
        "id": "XQ7i0pW_mtWS"
      },
      "execution_count": null,
      "outputs": []
    },
    {
      "cell_type": "code",
      "source": [
        "X_scaled = standardize_data(X)\n",
        "\n",
        "# Instantiate the Logistic Regression class with regularization (L2)\n",
        "model = LogisticRegression(learning_rate=0.1, num_iterations=1000, regularization='l2', lambda_param=0.1)\n",
        "\n",
        "# Split the dataset into training and testing sets using scaled features\n",
        "X_train, X_test, y_train, y_test = model.split(pd.DataFrame(X_scaled, columns=X.columns), y)\n",
        "\n",
        "# Fit the model on the training data\n",
        "model.fit(X_train, y_train)\n",
        "\n",
        "# Make predictions on the test data\n",
        "y_pred = model.predict(X_test)\n",
        "\n",
        "# Evaluation (you can use sklearn.metrics for detailed metrics)\n",
        "accuracy = np.mean(y_pred == y_test)\n",
        "print(\"Accuracy:\", accuracy)\n"
      ],
      "metadata": {
        "colab": {
          "base_uri": "https://localhost:8080/"
        },
        "id": "1gS5ye3eg8xZ",
        "outputId": "2e847c94-3998-47c0-85d0-efed426a3f5d"
      },
      "execution_count": null,
      "outputs": [
        {
          "output_type": "stream",
          "name": "stdout",
          "text": [
            "Accuracy: 0.8300653594771242\n"
          ]
        }
      ]
    },
    {
      "cell_type": "code",
      "source": [],
      "metadata": {
        "id": "ieDbuP70iOAA"
      },
      "execution_count": null,
      "outputs": []
    }
  ]
}